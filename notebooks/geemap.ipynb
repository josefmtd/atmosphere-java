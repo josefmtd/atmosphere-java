{
 "cells": [
  {
   "cell_type": "code",
   "execution_count": 1,
   "source": [
    "import ee\n",
    "import eemont\n",
    "import geemap\n",
    "from datetime import datetime, timedelta"
   ],
   "outputs": [],
   "metadata": {}
  },
  {
   "cell_type": "markdown",
   "source": [
    "# ECMWF Copernicus Atmosphere Monitoring Service (CAMS) in Indonesia"
   ],
   "metadata": {}
  },
  {
   "cell_type": "code",
   "execution_count": 2,
   "source": [
    "west = 90.0\n",
    "east = 150.0\n",
    "north = 15.0\n",
    "south = -15.0\n",
    "\n",
    "center_lat = (north + south)/2\n",
    "center_lon = (west + east)/2\n",
    "Map = geemap.Map(center = (center_lat, center_lon), zoom = 7)"
   ],
   "outputs": [],
   "metadata": {}
  },
  {
   "cell_type": "code",
   "execution_count": 5,
   "source": [
    "obs = datetime.utcnow() - timedelta(days = 7)\n",
    "end = obs + timedelta(days = 1)\n",
    "\n",
    "print(f\"Date: {obs.date().isoformat()}\")"
   ],
   "outputs": [
    {
     "output_type": "stream",
     "name": "stdout",
     "text": [
      "Date : 2021-07-09\n"
     ]
    }
   ],
   "metadata": {}
  },
  {
   "cell_type": "markdown",
   "source": [
    "ECMWF CAMS showing a mean PM2.5 forecast data from the current date. All units in ug/m^3. Only value above 40ug/m^3 is shown. "
   ],
   "metadata": {}
  },
  {
   "cell_type": "code",
   "execution_count": 4,
   "source": [
    "bounds = ee.Geometry.BBox(west, south, east, north)\n",
    "cams = ee.ImageCollection('ECMWF/CAMS/NRT') \\\n",
    "    .select('particulate_matter_d_less_than_25_um_surface') \\\n",
    "    .filterDate(obs.isoformat(), end.isoformat()) \\\n",
    "    .filter(ee.Filter.lt('model_forecast_hour', 24))\n",
    "\n",
    "data = cams.mean().clip(bounds) * 1e9\n",
    "mask = data.gt(40)\n",
    "data = data.updateMask(mask)\n",
    "\n",
    "vis_params = {\n",
    "    'min' : 0,\n",
    "    'max' : 300,\n",
    "    'palette' : ['white', 'red']\n",
    "}\n",
    "\n",
    "Map.addLayer(data, vis_params, 'PM2.5 (ug/m^2)')\n",
    "Map"
   ],
   "outputs": [
    {
     "output_type": "display_data",
     "data": {
      "text/plain": [
       "Map(center=[0.0, 120.0], controls=(WidgetControl(options=['position', 'transparent_bg'], widget=HBox(children=…"
      ],
      "application/vnd.jupyter.widget-view+json": {
       "version_major": 2,
       "version_minor": 0,
       "model_id": "45149d9801a542338671d158a0e5f9db"
      }
     },
     "metadata": {}
    }
   ],
   "metadata": {}
  },
  {
   "cell_type": "code",
   "execution_count": null,
   "source": [],
   "outputs": [],
   "metadata": {}
  }
 ],
 "metadata": {
  "orig_nbformat": 4,
  "language_info": {
   "name": "python"
  }
 },
 "nbformat": 4,
 "nbformat_minor": 2
}