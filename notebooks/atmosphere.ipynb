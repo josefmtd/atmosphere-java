{
 "cells": [
  {
   "cell_type": "code",
   "execution_count": 1,
   "source": [
    "import ee\n",
    "import geemap\n",
    "from datetime import datetime, timedelta"
   ],
   "outputs": [],
   "metadata": {}
  },
  {
   "cell_type": "markdown",
   "source": [
    "# SILAM PM2.5 Forecast from Finnish Meteorological Institute\n",
    "Today's mean forecasted PM2.5 concentration in ug/m^3. Values above 40ug/m^3 are shown.\n"
   ],
   "metadata": {}
  },
  {
   "cell_type": "code",
   "execution_count": 2,
   "source": [
    "Map = geemap.Map(center = (0, 120), zoom = 5)"
   ],
   "outputs": [],
   "metadata": {}
  },
  {
   "cell_type": "code",
   "execution_count": 3,
   "source": [
    "obs = datetime.utcnow().date()\n",
    "print(f\"Date: {obs.isoformat()}\")"
   ],
   "outputs": [
    {
     "output_type": "stream",
     "name": "stdout",
     "text": [
      "Date: 2021-07-16\n"
     ]
    }
   ],
   "metadata": {}
  },
  {
   "cell_type": "code",
   "execution_count": 5,
   "source": [
    "fname = f'pm25_{obs.strftime(\"%Y%m%d\")}.tif'\n",
    "data = ee.Image.loadGeoTIFF(f'gs://silam-neonet-rasters/{fname}')\n",
    "\n",
    "data = data.updateMask(data.gt(40))\n",
    "\n",
    "vis_params = {\n",
    "    'min' : 0,\n",
    "    'max' : 300,\n",
    "    'palette' : ['white', 'red']\n",
    "}\n",
    "\n",
    "Map.addLayer(data, vis_params, 'PM2.5')\n",
    "Map"
   ],
   "outputs": [
    {
     "output_type": "display_data",
     "data": {
      "text/plain": [
       "Map(bottom=4396.0, center=[0, 120], controls=(WidgetControl(options=['position', 'transparent_bg'], widget=HBo…"
      ],
      "application/vnd.jupyter.widget-view+json": {
       "version_major": 2,
       "version_minor": 0,
       "model_id": "df65da2638a840d482d311a1a27c8024"
      }
     },
     "metadata": {}
    }
   ],
   "metadata": {}
  },
  {
   "cell_type": "code",
   "execution_count": null,
   "source": [],
   "outputs": [],
   "metadata": {}
  }
 ],
 "metadata": {
  "orig_nbformat": 4,
  "language_info": {
   "name": "python"
  }
 },
 "nbformat": 4,
 "nbformat_minor": 2
}